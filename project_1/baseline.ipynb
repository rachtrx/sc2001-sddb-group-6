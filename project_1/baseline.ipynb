{
 "cells": [
  {
   "cell_type": "code",
   "execution_count": 1,
   "metadata": {},
   "outputs": [],
   "source": [
    "import numpy as np\n",
    "import pandas as pd\n",
    "import time\n",
    "from multiprocessing import Pool, cpu_count\n",
    "from tqdm import tqdm\n",
    "import logging\n",
    "\n",
    "import matplotlib.pyplot as plt\n",
    "import seaborn as sns"
   ]
  },
  {
   "cell_type": "code",
   "execution_count": 2,
   "metadata": {},
   "outputs": [],
   "source": [
    "logging.basicConfig(\n",
    "    filename=\"experiments.log\",\n",
    "    filemode=\"w\",\n",
    "    level=logging.INFO,\n",
    "    format=\"%(asctime)s - %(levelname)s - %(message)s\" \n",
    ")"
   ]
  },
  {
   "cell_type": "code",
   "execution_count": 3,
   "metadata": {},
   "outputs": [],
   "source": [
    "ARR_LENS = list(range(100_000, 10_000_001, 100_000))\n",
    "S_VALUES = list(range(1, 100, 2)) # 1 - 99"
   ]
  },
  {
   "cell_type": "code",
   "execution_count": 4,
   "metadata": {},
   "outputs": [],
   "source": [
    "class DataLoader:\n",
    "    def __init__(self, arr_len):\n",
    "        self.arr_len = arr_len\n",
    "        \n",
    "    def generate_data(self):\n",
    "        return np.random.permutation(np.arange(1, self.arr_len + 1))"
   ]
  },
  {
   "cell_type": "code",
   "execution_count": 5,
   "metadata": {},
   "outputs": [],
   "source": [
    "class Model:\n",
    "\n",
    "    def __init__(self, array, S):\n",
    "        self.S = S   \n",
    "        self.array = array\n",
    "\n",
    "    def train(self):\n",
    "        self.execution_time = None\n",
    "        self.key_cmp = 0\n",
    "        start_time = time.perf_counter()\n",
    "        self.merge_sort(0, len(self.array)-1)\n",
    "        end_time = time.perf_counter()\n",
    "        self.execution_time = end_time - start_time\n",
    "\n",
    "    def train_hybrid(self):\n",
    "        self.execution_time = None\n",
    "        self.key_cmp = 0\n",
    "        start_time = time.perf_counter()\n",
    "        self.merge_insertion_sort(0, len(self.array)-1)\n",
    "        end_time = time.perf_counter()\n",
    "        self.execution_time = end_time - start_time\n",
    "\n",
    "    def merge(self, n, m):\n",
    "        mid = (n + m) // 2\n",
    "        left = self.array[n:mid + 1]\n",
    "        right = self.array[mid + 1:m + 1]\n",
    "\n",
    "        i = j = 0\n",
    "\n",
    "        temp = []\n",
    "\n",
    "        while i < len(left) and j < len(right):\n",
    "            self.key_cmp += 1\n",
    "            if left[i] <= right[j]:  # Stable sort: left[i] goes first if equal\n",
    "                temp.append(left[i])\n",
    "                i += 1\n",
    "            else:\n",
    "                temp.append(right[j])\n",
    "                j += 1\n",
    "\n",
    "        # Add any remaining elements\n",
    "        while i < len(left):\n",
    "            temp.append(left[i])\n",
    "            i += 1\n",
    "\n",
    "        while j < len(right):\n",
    "            temp.append(right[j])\n",
    "            j += 1\n",
    "\n",
    "        # Copy merged values back into original array\n",
    "        self.array[n:m+1] = temp\n",
    "\n",
    "\n",
    "    def merge_insertion_sort(self, n, m):\n",
    "        \n",
    "        if (m-n <= 0):\n",
    "            return\n",
    "        \n",
    "        if m-n+1 <= self.S:\n",
    "            self.insertion_sort(n, m)\n",
    "            return\n",
    "        \n",
    "        mid = (n+m)//2\n",
    "        if (m-n>1):\n",
    "            self.merge_insertion_sort(n, mid)\n",
    "            self.merge_insertion_sort(mid+1, m)\n",
    "        \n",
    "        self.merge(n, m)\n",
    "\n",
    "    def merge_sort(self, n, m):\n",
    "        if (m-n <= 0):\n",
    "            return\n",
    "        \n",
    "        mid = (n+m)//2\n",
    "        if (m-n>1):\n",
    "            self.merge_sort(n, mid)\n",
    "            self.merge_sort(mid+1, m)\n",
    "        \n",
    "        self.merge(n, m)\n",
    "\n",
    "    def insertion_sort(self, n, m):\n",
    "        i = n+1\n",
    "        while i <= m:\n",
    "            j = i\n",
    "            while j > n:\n",
    "                self.key_cmp += 1\n",
    "                if self.array[j] < self.array[j-1]:\n",
    "                    tmp = self.array[j]\n",
    "                    self.array[j] = self.array[j-1]\n",
    "                    self.array[j-1] = tmp\n",
    "                    j -= 1\n",
    "                else:\n",
    "                    break\n",
    "            i+=1"
   ]
  },
  {
   "cell_type": "code",
   "execution_count": 6,
   "metadata": {},
   "outputs": [],
   "source": [
    "def run_experiment(args):\n",
    "    arr_len, S = args\n",
    "    dataloader = DataLoader(arr_len=arr_len)\n",
    "    array = dataloader.generate_data()\n",
    "\n",
    "    model = Model(array, S)\n",
    "\n",
    "    logging.info(f\"Starting sort for arr_len={arr_len} with S={S}\")\n",
    "    model.train_hybrid()\n",
    "    logging.info(f\"Completed sort for arr_len={arr_len} with S={S}\")\n",
    "\n",
    "    return {\n",
    "        \"Array Length\": arr_len,\n",
    "        \"Threshold\": S,\n",
    "        \"Execution Time\": model.execution_time,\n",
    "        \"Key Comparisons\": model.key_cmp\n",
    "    }"
   ]
  },
  {
   "cell_type": "code",
   "execution_count": 7,
   "metadata": {},
   "outputs": [
    {
     "name": "stdout",
     "output_type": "stream",
     "text": [
      "[25 12 26 13 24 21 28 27 24 17 12 22 18  4 23 28 28 23  9 27  4  1 16 25\n",
      " 18 26  6  7 24 28]\n",
      "[ 1  4  4  6  7  9 12 12 13 16 17 18 18 21 22 23 23 24 24 24 25 25 26 26\n",
      " 27 27 28 28 28 28]\n"
     ]
    }
   ],
   "source": [
    "# TEST\n",
    "arr_len = 30\n",
    "S=3\n",
    "\n",
    "dataloader = DataLoader(arr_len=arr_len)\n",
    "array = dataloader.generate_data()\n",
    "\n",
    "model = Model(array, S)\n",
    "\n",
    "print(model.array)\n",
    "model.train()\n",
    "print(model.array)"
   ]
  },
  {
   "cell_type": "code",
   "execution_count": 8,
   "metadata": {},
   "outputs": [
    {
     "name": "stderr",
     "output_type": "stream",
     "text": [
      "Processing Arrays: 100%|██████████| 5000/5000 [1:16:03<00:00,  1.10it/s]\n"
     ]
    },
    {
     "name": "stdout",
     "output_type": "stream",
     "text": [
      "Execution complete\n"
     ]
    }
   ],
   "source": [
    "experiments = [(arr_len, S) for arr_len in ARR_LENS for S in S_VALUES]\n",
    "\n",
    "with Pool(cpu_count()) as pool:\n",
    "    results = list(tqdm(pool.imap(run_experiment, experiments), total=len(experiments), desc=\"Processing Arrays\"))\n",
    "\n",
    "df_results = pd.DataFrame(results)\n",
    "df_results.to_parquet(\"baseline.parquet\", index=False)\n",
    "\n",
    "print(\"Execution complete\")"
   ]
  }
 ],
 "metadata": {
  "kernelspec": {
   "display_name": "hft",
   "language": "python",
   "name": "python3"
  },
  "language_info": {
   "codemirror_mode": {
    "name": "ipython",
    "version": 3
   },
   "file_extension": ".py",
   "mimetype": "text/x-python",
   "name": "python",
   "nbconvert_exporter": "python",
   "pygments_lexer": "ipython3",
   "version": "3.10.15"
  }
 },
 "nbformat": 4,
 "nbformat_minor": 2
}
