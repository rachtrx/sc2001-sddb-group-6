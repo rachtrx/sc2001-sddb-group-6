{
 "cells": [
  {
   "cell_type": "code",
   "execution_count": 1,
   "metadata": {},
   "outputs": [],
   "source": [
    "import pandas as pd\n",
    "import numpy as np\n",
    "from multiprocessing import Pool, cpu_count\n",
    "from tqdm import tqdm\n",
    "import logging\n",
    "import matplotlib.pyplot as plt\n",
    "import seaborn as sns\n",
    "\n",
    "import sys\n",
    "import os\n",
    "notebook_dir = os.getcwd()\n",
    "sys.path.append(notebook_dir)\n",
    "from model import Model\n",
    "from dataloader import DataLoader"
   ]
  },
  {
   "cell_type": "code",
   "execution_count": 2,
   "metadata": {},
   "outputs": [],
   "source": [
    "logging.basicConfig(\n",
    "    filename=\"merge.log\",\n",
    "    filemode=\"w\",\n",
    "    level=logging.INFO,\n",
    "    format=\"%(asctime)s - %(levelname)s - %(message)s\" \n",
    ")"
   ]
  },
  {
   "cell_type": "code",
   "execution_count": 3,
   "metadata": {},
   "outputs": [],
   "source": [
    "def run_experiment(args):\n",
    "    arr_len, S, seed = args\n",
    "    dataloader = DataLoader(arr_len=arr_len, seed=seed)\n",
    "    array = dataloader.generate_data()\n",
    "\n",
    "    logging.info(f\"Starting sort for arr_len={arr_len} with S={S}\")\n",
    "    model = Model(array, S)\n",
    "    logging.info(f\"Completed sort for arr_len={arr_len} with S={S}\")\n",
    "\n",
    "    model.train()\n",
    "\n",
    "    return {\n",
    "        \"Array Length\": arr_len,\n",
    "        \"Execution Time\": model.execution_time,\n",
    "        \"Threshold\": S,\n",
    "        \"Key Comparisons\": model.key_cmp\n",
    "    }"
   ]
  },
  {
   "cell_type": "code",
   "execution_count": 4,
   "metadata": {},
   "outputs": [
    {
     "name": "stdout",
     "output_type": "stream",
     "text": [
      "[28  7 29 17  4  5 30  2 16 23 20 25  9  6 24 18 19 22 13  8 15 26 10 21\n",
      " 14 11 12 27  3  1]\n",
      "[ 1  2  3  4  5  6  7  8  9 10 11 12 13 14 15 16 17 18 19 20 21 22 23 24\n",
      " 25 26 27 28 29 30]\n"
     ]
    }
   ],
   "source": [
    "# TEST\n",
    "arr_len = 30\n",
    "S=3\n",
    "\n",
    "dataloader = DataLoader(arr_len=arr_len)\n",
    "array = dataloader.generate_data()\n",
    "\n",
    "model = Model(array, S)\n",
    "\n",
    "print(model.array)\n",
    "model.train()\n",
    "print(model.array)"
   ]
  },
  {
   "cell_type": "code",
   "execution_count": 5,
   "metadata": {},
   "outputs": [
    {
     "name": "stderr",
     "output_type": "stream",
     "text": [
      "Processing Arrays: 100%|██████████| 40/40 [01:21<00:00,  2.05s/it]\n"
     ]
    },
    {
     "name": "stdout",
     "output_type": "stream",
     "text": [
      "Execution complete\n"
     ]
    }
   ],
   "source": [
    "np.random.seed(42)\n",
    "\n",
    "seed_values = np.random.randint(0, 100000, size=20).tolist()\n",
    "\n",
    "base_experiments = [(10_000_000, 7), (10_000_000, 1)]\n",
    "experiments = [(size, param, seed) for seed in seed_values for (size, param) in base_experiments]\n",
    "\n",
    "with Pool(cpu_count()) as pool:\n",
    "    results = list(tqdm(pool.imap(run_experiment, experiments), total=len(experiments), desc=\"Processing Arrays\"))\n",
    "\n",
    "print(\"Execution complete\")\n",
    "\n",
    "df_results = pd.DataFrame(results, columns=[\"Array Length\", \"Threshold\", \"Execution Time\", \"Key Comparisons\"])\n",
    "df_results.to_parquet(\"comparison.parquet\")"
   ]
  },
  {
   "cell_type": "code",
   "execution_count": 6,
   "metadata": {},
   "outputs": [
    {
     "data": {
      "text/html": [
       "<div>\n",
       "<style scoped>\n",
       "    .dataframe tbody tr th:only-of-type {\n",
       "        vertical-align: middle;\n",
       "    }\n",
       "\n",
       "    .dataframe tbody tr th {\n",
       "        vertical-align: top;\n",
       "    }\n",
       "\n",
       "    .dataframe thead th {\n",
       "        text-align: right;\n",
       "    }\n",
       "</style>\n",
       "<table border=\"1\" class=\"dataframe\">\n",
       "  <thead>\n",
       "    <tr style=\"text-align: right;\">\n",
       "      <th></th>\n",
       "      <th>Array Length</th>\n",
       "      <th>Threshold</th>\n",
       "      <th>Execution_Time_Mean</th>\n",
       "      <th>Execution_Time_Std</th>\n",
       "      <th>Key_Comparisons_Mean</th>\n",
       "      <th>Key_Comparisons_Std</th>\n",
       "      <th>Algorithm</th>\n",
       "    </tr>\n",
       "  </thead>\n",
       "  <tbody>\n",
       "    <tr>\n",
       "      <th>0</th>\n",
       "      <td>10000000</td>\n",
       "      <td>1</td>\n",
       "      <td>80.803451</td>\n",
       "      <td>0.215999</td>\n",
       "      <td>220100893.4</td>\n",
       "      <td>1450.614367</td>\n",
       "      <td>Merge Sort</td>\n",
       "    </tr>\n",
       "    <tr>\n",
       "      <th>1</th>\n",
       "      <td>10000000</td>\n",
       "      <td>7</td>\n",
       "      <td>74.699440</td>\n",
       "      <td>0.315939</td>\n",
       "      <td>221108739.1</td>\n",
       "      <td>2366.677171</td>\n",
       "      <td>Hybrid Sort</td>\n",
       "    </tr>\n",
       "  </tbody>\n",
       "</table>\n",
       "</div>"
      ],
      "text/plain": [
       "   Array Length  Threshold  Execution_Time_Mean  Execution_Time_Std  \\\n",
       "0      10000000          1            80.803451            0.215999   \n",
       "1      10000000          7            74.699440            0.315939   \n",
       "\n",
       "   Key_Comparisons_Mean  Key_Comparisons_Std    Algorithm  \n",
       "0           220100893.4          1450.614367   Merge Sort  \n",
       "1           221108739.1          2366.677171  Hybrid Sort  "
      ]
     },
     "execution_count": 6,
     "metadata": {},
     "output_type": "execute_result"
    }
   ],
   "source": [
    "# Compute the average and standard deviation for each (Array Length, Threshold)\n",
    "df_avg = df_results.groupby([\"Array Length\", \"Threshold\"]).agg(\n",
    "    Execution_Time_Mean=(\"Execution Time\", \"mean\"),\n",
    "    Execution_Time_Std=(\"Execution Time\", \"std\"),\n",
    "    Key_Comparisons_Mean=(\"Key Comparisons\", \"mean\"),\n",
    "    Key_Comparisons_Std=(\"Key Comparisons\", \"std\")\n",
    ").reset_index()\n",
    "\n",
    "# Map Threshold to Algorithm Name\n",
    "df_avg[\"Algorithm\"] = df_avg[\"Threshold\"].map({1: \"Merge Sort\", 7: \"Hybrid Sort\"})\n",
    "df_avg"
   ]
  },
  {
   "cell_type": "code",
   "execution_count": 8,
   "metadata": {},
   "outputs": [
    {
     "data": {
      "image/png": "[encoded data removed]",
      "text/plain": [
       "<Figure size 800x500 with 2 Axes>"
      ]
     },
     "metadata": {},
     "output_type": "display_data"
    }
   ],
   "source": [
    "bar_width = 0.35  \n",
    "x = np.arange(len(df_avg[\"Algorithm\"]))  \n",
    "\n",
    "colors = [\"darkblue\", \"darkred\"]  \n",
    "\n",
    "# Create figure\n",
    "fig, ax1 = plt.subplots(figsize=(8, 5))\n",
    "\n",
    "ax1.bar(\n",
    "    x - bar_width/2, df_avg[\"Execution_Time_Mean\"], bar_width, \n",
    "    yerr=df_avg[\"Execution_Time_Std\"], capsize=3, \n",
    "    color=colors[0], edgecolor='black', label=\"Execution Time\", zorder=3\n",
    ")\n",
    "ax1.set_ylabel(\"Execution Time (seconds)\", color=colors[0])\n",
    "ax1.tick_params(axis='y', labelcolor=colors[0])\n",
    "ax1.set_ylim(df_avg[\"Execution_Time_Mean\"].min() * 0.95, df_avg[\"Execution_Time_Mean\"].max() * 1.05)\n",
    "ax1.grid(False)  # Disable grid on ax1\n",
    "\n",
    "ax2 = ax1.twinx()\n",
    "ax2.bar(\n",
    "    x + bar_width/2, df_avg[\"Key_Comparisons_Mean\"], bar_width, \n",
    "    yerr=df_avg[\"Key_Comparisons_Std\"], capsize=3, \n",
    "    color=colors[1], edgecolor='black', label=\"Key Comparisons\", zorder=2\n",
    ")\n",
    "ax2.set_ylabel(\"Key Comparisons\", color=colors[1])\n",
    "ax2.tick_params(axis='y', labelcolor=colors[1])\n",
    "ax2.set_ylim(df_avg[\"Key_Comparisons_Mean\"].min() * 0.95, df_avg[\"Key_Comparisons_Mean\"].max() * 1.05)\n",
    "ax2.grid(False)\n",
    "\n",
    "ax1.set_xticks(x)\n",
    "ax1.set_xticklabels(df_avg[\"Algorithm\"])\n",
    "\n",
    "plt.title(\"Execution Time & Key Comparisons: Merge Sort vs Hybrid Sort\")\n",
    "\n",
    "ax1.spines['top'].set_visible(False)\n",
    "ax2.spines['top'].set_visible(False)\n",
    "\n",
    "plt.show()"
   ]
  },
  {
   "cell_type": "code",
   "execution_count": null,
   "metadata": {},
   "outputs": [],
   "source": []
  }
 ],
 "metadata": {
  "kernelspec": {
   "display_name": "hft",
   "language": "python",
   "name": "python3"
  },
  "language_info": {
   "codemirror_mode": {
    "name": "ipython",
    "version": 3
   },
   "file_extension": ".py",
   "mimetype": "text/x-python",
   "name": "python",
   "nbconvert_exporter": "python",
   "pygments_lexer": "ipython3",
   "version": "3.10.15"
  }
 },
 "nbformat": 4,
 "nbformat_minor": 2
}
