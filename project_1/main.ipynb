{
 "cells": [
  {
   "cell_type": "code",
   "execution_count": 1,
   "metadata": {},
   "outputs": [
    {
     "name": "stderr",
     "output_type": "stream",
     "text": [
      "/home/rachtrx/mambaforge/envs/sc1015/lib/python3.10/site-packages/tqdm/auto.py:21: TqdmWarning: IProgress not found. Please update jupyter and ipywidgets. See https://ipywidgets.readthedocs.io/en/stable/user_install.html\n",
      "  from .autonotebook import tqdm as notebook_tqdm\n"
     ]
    },
    {
     "name": "stdout",
     "output_type": "stream",
     "text": [
      "/mnt/c/Users/rachm/OneDrive/projects/personal_projects/sc2001/project_1\n"
     ]
    }
   ],
   "source": [
    "import numpy as np\n",
    "import optuna\n",
    "import os\n",
    "import pandas as pd\n",
    "import time\n",
    "\n",
    "working_dir = os.getcwd()\n",
    "print(working_dir)\n"
   ]
  },
  {
   "cell_type": "code",
   "execution_count": 2,
   "metadata": {},
   "outputs": [],
   "source": [
    "ARR_LENS = list(range(0, 1_000_001, 100_000))\n",
    "S_VALUES = list(range(10, 101, 10)) # 10 to 100"
   ]
  },
  {
   "cell_type": "code",
   "execution_count": 3,
   "metadata": {},
   "outputs": [],
   "source": [
    "class DataLoader:\n",
    "    def __init__(self, arr_len):\n",
    "        self.arr_len = arr_len\n",
    "        \n",
    "    def generate_data(self):\n",
    "        return np.random.randint(1, self.arr_len, self.arr_len)"
   ]
  },
  {
   "cell_type": "code",
   "execution_count": 4,
   "metadata": {},
   "outputs": [],
   "source": [
    "class Model:\n",
    "\n",
    "    def __init__(self, array, S):\n",
    "        self.S = S   \n",
    "        self.array = array\n",
    "\n",
    "    def train(self):\n",
    "        self.execution_time = None\n",
    "        self.key_cmp = 0\n",
    "        start_time = time.perf_counter()\n",
    "        self.merge_insertion_sort(0, len(self.array)-1)\n",
    "        end_time = time.perf_counter()\n",
    "        self.execution_time = end_time - start_time\n",
    "\n",
    "    def merge(self, n, m):\n",
    "        mid = (n + m) // 2\n",
    "        left = self.array[n:mid + 1]\n",
    "        right = self.array[mid + 1:m + 1]\n",
    "\n",
    "        i = j = 0\n",
    "        k = n\n",
    "\n",
    "        while i < len(left) and j < len(right):\n",
    "            self.key_cmp += 1\n",
    "            if left[i] <= right[j]:  # Stable sort: left[i] goes first if equal\n",
    "                self.array[k] = left[i]\n",
    "                i += 1\n",
    "            else:\n",
    "                self.array[k] = right[j]\n",
    "                j += 1\n",
    "            k += 1\n",
    "\n",
    "        while i < len(left):\n",
    "            self.array[k] = left[i]\n",
    "            i += 1\n",
    "            k += 1\n",
    "\n",
    "        while j < len(right):\n",
    "            self.array[k] = right[j]\n",
    "            j += 1\n",
    "            k += 1\n",
    "\n",
    "    def merge_insertion_sort(self, n, m):\n",
    "        \n",
    "        if (m-n <= 0):\n",
    "            return\n",
    "        \n",
    "        if m-n+1 <= self.S:\n",
    "            self.insertion_sort(n, m)\n",
    "            return\n",
    "        \n",
    "        mid = (n+m)//2\n",
    "        if (m-n>1):\n",
    "            self.merge_insertion_sort(n, mid)\n",
    "            self.merge_insertion_sort(mid+1, m)\n",
    "        \n",
    "        self.merge(n, m)\n",
    "\n",
    "    def merge_sort(self, n, m):\n",
    "        if (m-n <= 0):\n",
    "            return\n",
    "        \n",
    "        mid = (n+m)//2\n",
    "        if (m-n>1):\n",
    "            self.merge_sort(n, mid)\n",
    "            self.merge_sort(mid+1, m)\n",
    "        \n",
    "        self.merge(n, m)\n",
    "\n",
    "    def insertion_sort(self, n, m):\n",
    "        i = n+1\n",
    "        while i <= m:\n",
    "            j = i\n",
    "            while j > n:\n",
    "                self.key_cmp += 1\n",
    "                if self.array[j] < self.array[j-1]:\n",
    "                    tmp = self.array[j]\n",
    "                    self.array[j] = self.array[j-1]\n",
    "                    self.array[j-1] = tmp\n",
    "                    j -= 1\n",
    "                else:\n",
    "                    break\n",
    "            i+=1"
   ]
  },
  {
   "cell_type": "code",
   "execution_count": 5,
   "metadata": {},
   "outputs": [
    {
     "name": "stdout",
     "output_type": "stream",
     "text": [
      "{'Array Length': 100000, 'Threshold': 30, 'Execution Time': 375.7347978730104, 'Key Comparisons': 1822856}\n"
     ]
    }
   ],
   "source": [
    "dataloader = DataLoader(arr_len=100000)\n",
    "array = dataloader.generate_data()\n",
    "model = Model(array, 30)\n",
    "model.train()\n",
    "\n",
    "result = {\n",
    "    \"Array Length\": 100000,\n",
    "    \"Threshold\": 30,\n",
    "    \"Execution Time\": model.execution_time,\n",
    "    \"Key Comparisons\": model.key_cmp\n",
    "}\n",
    "\n",
    "print(result)"
   ]
  },
  {
   "cell_type": "code",
   "execution_count": 6,
   "metadata": {},
   "outputs": [],
   "source": [
    "# results = []\n",
    "\n",
    "# for arr_len in ARR_LENS:\n",
    "#     print(f\"Running for arrays of length {arr_len}\")\n",
    "#     dataloader = DataLoader(arr_len=arr_len)\n",
    "#     array = dataloader.generate_data()\n",
    "    \n",
    "#     for S in S_VALUES:\n",
    "        \n",
    "#         model = Model(array, S)\n",
    "#         model.train()\n",
    "        \n",
    "#         results.append({\n",
    "#             \"Array Length\": arr_len,\n",
    "#             \"Threshold\": S,\n",
    "#             \"Execution Time\": model.execution_time,\n",
    "#             \"Key Comparisons\": model.key_cmp\n",
    "#         })\n",
    "\n",
    "# df_results = pd.DataFrame(results)\n",
    "\n",
    "# df_results.to_parquet(\"sorting_experiment_results.parquet\", index=False)"
   ]
  },
  {
   "cell_type": "code",
   "execution_count": 7,
   "metadata": {},
   "outputs": [],
   "source": [
    "# PARALLEL\n",
    "\n",
    "# from multiprocessing import Pool, cpu_count\n",
    "# from tqdm import tqdm\n",
    "# import pandas as pd\n",
    "\n",
    "# def run_experiment(args):\n",
    "#     arr_len, S = args\n",
    "#     dataloader = DataLoader(arr_len=arr_len)\n",
    "#     array = dataloader.generate_data()\n",
    "\n",
    "#     model = Model(array, S)\n",
    "#     model.train()\n",
    "\n",
    "#     return {\n",
    "#         \"Array Length\": arr_len,\n",
    "#         \"Threshold\": S,\n",
    "#         \"Execution Time\": model.execution_time,\n",
    "#         \"Key Comparisons\": model.key_cmp\n",
    "#     }\n",
    "\n",
    "# experiments = [(arr_len, S) for arr_len in ARR_LENS for S in S_VALUES]\n",
    "\n",
    "# with Pool(cpu_count()) as pool:\n",
    "#     results = list(tqdm(pool.imap(run_experiment, experiments), total=len(experiments), desc=\"Processing Arrays\"))\n",
    "\n",
    "# df_results = pd.DataFrame(results)\n",
    "# df_results.to_parquet(\"results.parquet\", index=False)\n",
    "\n",
    "# print(\"Execution complete\")\n"
   ]
  }
 ],
 "metadata": {
  "kernelspec": {
   "display_name": "sc1015",
   "language": "python",
   "name": "python3"
  },
  "language_info": {
   "codemirror_mode": {
    "name": "ipython",
    "version": 3
   },
   "file_extension": ".py",
   "mimetype": "text/x-python",
   "name": "python",
   "nbconvert_exporter": "python",
   "pygments_lexer": "ipython3",
   "version": "3.10.13"
  }
 },
 "nbformat": 4,
 "nbformat_minor": 2
}
