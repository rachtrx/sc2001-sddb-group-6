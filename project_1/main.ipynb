{
 "cells": [
  {
   "cell_type": "code",
   "execution_count": 1,
   "metadata": {},
   "outputs": [
    {
     "name": "stderr",
     "output_type": "stream",
     "text": [
      "/home/rachtrx/mambaforge/envs/sc1015/lib/python3.10/site-packages/tqdm/auto.py:21: TqdmWarning: IProgress not found. Please update jupyter and ipywidgets. See https://ipywidgets.readthedocs.io/en/stable/user_install.html\n",
      "  from .autonotebook import tqdm as notebook_tqdm\n"
     ]
    },
    {
     "name": "stdout",
     "output_type": "stream",
     "text": [
      "/mnt/c/Users/rachm/OneDrive/projects/personal_projects/sc2001/project_1\n"
     ]
    }
   ],
   "source": [
    "import numpy as np\n",
    "import optuna\n",
    "import os\n",
    "import pandas as pd\n",
    "import time\n",
    "\n",
    "working_dir = os.getcwd()\n",
    "print(working_dir)\n"
   ]
  },
  {
   "cell_type": "code",
   "execution_count": 2,
   "metadata": {},
   "outputs": [],
   "source": [
    "ARR_LENS = list(range(0, 1_000_001, 100_000))\n",
    "S_VALUES = list(range(10, 101, 10)) # 10 to 100"
   ]
  },
  {
   "cell_type": "code",
   "execution_count": 3,
   "metadata": {},
   "outputs": [],
   "source": [
    "class DataLoader:\n",
    "    def __init__(self, arr_len):\n",
    "        self.arr_len = arr_len\n",
    "        \n",
    "    def generate_data(self):\n",
    "        return np.random.randint(1, 100, self.arr_len)"
   ]
  },
  {
   "cell_type": "code",
   "execution_count": 4,
   "metadata": {},
   "outputs": [],
   "source": [
    "class Model:\n",
    "\n",
    "    def __init__(self, array, S):\n",
    "        self.S = S   \n",
    "        self.array = array\n",
    "\n",
    "    def train(self):\n",
    "        self.execution_time = None\n",
    "        self.key_cmp = 0\n",
    "        start_time = time.perf_counter()\n",
    "        self.merge_insertion_sort(0, len(self.array)-1)\n",
    "        end_time = time.perf_counter()\n",
    "        self.execution_time = end_time - start_time\n",
    "\n",
    "    def merge(self, n, m):\n",
    "        mid = (n+m)//2\n",
    "        a=n\n",
    "        b=mid+1\n",
    "        i=None\n",
    "        tmp=None\n",
    "\n",
    "        if m-n<=0:\n",
    "            return\n",
    "        while a<=mid and b<=m:\n",
    "            self.key_cmp += 1\n",
    "            cmp = self.array[a] - self.array[b]\n",
    "            if cmp>0:\n",
    "                tmp = self.array[b]\n",
    "                b += 1\n",
    "                mid += 1\n",
    "                i = mid\n",
    "                while i>a:\n",
    "                    self.array[i] = self.array[i-1]\n",
    "                    i -= 1\n",
    "                self.array[a] = tmp\n",
    "                a += 1\n",
    "            elif cmp<0:\n",
    "                a += 1\n",
    "            else:\n",
    "                if a==mid and b==m:\n",
    "                    break\n",
    "                tmp = self.array[b]\n",
    "                a += 1\n",
    "                b += 1\n",
    "                mid += 1\n",
    "                i = mid\n",
    "                while i>a:\n",
    "                    self.array[i] = self.array[i-1]\n",
    "                    i -= 1\n",
    "                self.array[a] = tmp\n",
    "                a += 1\n",
    "\n",
    "    def merge_insertion_sort(self, n, m):\n",
    "        \n",
    "        if (m-n <= 0):\n",
    "            return\n",
    "        \n",
    "        if m-n+1 <= self.S:\n",
    "            self.insertion_sort(n, m)\n",
    "            return\n",
    "        \n",
    "        mid = (n+m)//2\n",
    "        if (m-n>1):\n",
    "            self.merge_insertion_sort(n, mid)\n",
    "            self.merge_insertion_sort(mid+1, m)\n",
    "        \n",
    "        self.merge(n, m)\n",
    "\n",
    "    def merge_sort(self, n, m):\n",
    "        if (m-n <= 0):\n",
    "            return\n",
    "        \n",
    "        mid = (n+m)//2\n",
    "        if (m-n>1):\n",
    "            self.merge_sort(n, mid)\n",
    "            self.merge_sort(mid+1, m)\n",
    "        \n",
    "        self.merge(n, m)\n",
    "\n",
    "    def insertion_sort(self, n, m):\n",
    "        i = n+1\n",
    "        while i <= m:\n",
    "            j = i\n",
    "            while j > n:\n",
    "                self.key_cmp += 1\n",
    "                if self.array[j] < self.array[j-1]:\n",
    "                    tmp = self.array[j]\n",
    "                    self.array[j] = self.array[j-1]\n",
    "                    self.array[j-1] = tmp\n",
    "                    j -= 1\n",
    "                else:\n",
    "                    break\n",
    "            i+=1"
   ]
  },
  {
   "cell_type": "code",
   "execution_count": 5,
   "metadata": {},
   "outputs": [
    {
     "name": "stdout",
     "output_type": "stream",
     "text": [
      "Running for arrays of length 1000\n",
      "Running for arrays of length 101000\n"
     ]
    },
    {
     "ename": "KeyboardInterrupt",
     "evalue": "",
     "output_type": "error",
     "traceback": [
      "\u001b[0;31m---------------------------------------------------------------------------\u001b[0m",
      "\u001b[0;31mKeyboardInterrupt\u001b[0m                         Traceback (most recent call last)",
      "Cell \u001b[0;32mIn[5], line 11\u001b[0m\n\u001b[1;32m      8\u001b[0m     \u001b[38;5;28;01mfor\u001b[39;00m S \u001b[38;5;129;01min\u001b[39;00m S_VALUES:\n\u001b[1;32m     10\u001b[0m         model \u001b[38;5;241m=\u001b[39m Model(array, S)\n\u001b[0;32m---> 11\u001b[0m         \u001b[43mmodel\u001b[49m\u001b[38;5;241;43m.\u001b[39;49m\u001b[43mtrain\u001b[49m\u001b[43m(\u001b[49m\u001b[43m)\u001b[49m\n\u001b[1;32m     13\u001b[0m         results\u001b[38;5;241m.\u001b[39mappend({\n\u001b[1;32m     14\u001b[0m             \u001b[38;5;124m\"\u001b[39m\u001b[38;5;124mArray Length\u001b[39m\u001b[38;5;124m\"\u001b[39m: arr_len,\n\u001b[1;32m     15\u001b[0m             \u001b[38;5;124m\"\u001b[39m\u001b[38;5;124mThreshold\u001b[39m\u001b[38;5;124m\"\u001b[39m: S,\n\u001b[1;32m     16\u001b[0m             \u001b[38;5;124m\"\u001b[39m\u001b[38;5;124mExecution Time\u001b[39m\u001b[38;5;124m\"\u001b[39m: model\u001b[38;5;241m.\u001b[39mexecution_time,\n\u001b[1;32m     17\u001b[0m             \u001b[38;5;124m\"\u001b[39m\u001b[38;5;124mKey Comparisons\u001b[39m\u001b[38;5;124m\"\u001b[39m: model\u001b[38;5;241m.\u001b[39mkey_cmp\n\u001b[1;32m     18\u001b[0m         })\n\u001b[1;32m     20\u001b[0m df_results \u001b[38;5;241m=\u001b[39m pd\u001b[38;5;241m.\u001b[39mDataFrame(results)\n",
      "Cell \u001b[0;32mIn[4], line 11\u001b[0m, in \u001b[0;36mModel.train\u001b[0;34m(self)\u001b[0m\n\u001b[1;32m      9\u001b[0m \u001b[38;5;28mself\u001b[39m\u001b[38;5;241m.\u001b[39mkey_cmp \u001b[38;5;241m=\u001b[39m \u001b[38;5;241m0\u001b[39m\n\u001b[1;32m     10\u001b[0m start_time \u001b[38;5;241m=\u001b[39m time\u001b[38;5;241m.\u001b[39mperf_counter()\n\u001b[0;32m---> 11\u001b[0m \u001b[38;5;28;43mself\u001b[39;49m\u001b[38;5;241;43m.\u001b[39;49m\u001b[43mmerge_insertion_sort\u001b[49m\u001b[43m(\u001b[49m\u001b[38;5;241;43m0\u001b[39;49m\u001b[43m,\u001b[49m\u001b[43m \u001b[49m\u001b[38;5;28;43mlen\u001b[39;49m\u001b[43m(\u001b[49m\u001b[38;5;28;43mself\u001b[39;49m\u001b[38;5;241;43m.\u001b[39;49m\u001b[43marray\u001b[49m\u001b[43m)\u001b[49m\u001b[38;5;241;43m-\u001b[39;49m\u001b[38;5;241;43m1\u001b[39;49m\u001b[43m)\u001b[49m\n\u001b[1;32m     12\u001b[0m end_time \u001b[38;5;241m=\u001b[39m time\u001b[38;5;241m.\u001b[39mperf_counter()\n\u001b[1;32m     13\u001b[0m \u001b[38;5;28mself\u001b[39m\u001b[38;5;241m.\u001b[39mexecution_time \u001b[38;5;241m=\u001b[39m end_time \u001b[38;5;241m-\u001b[39m start_time\n",
      "Cell \u001b[0;32mIn[4], line 64\u001b[0m, in \u001b[0;36mModel.merge_insertion_sort\u001b[0;34m(self, n, m)\u001b[0m\n\u001b[1;32m     62\u001b[0m mid \u001b[38;5;241m=\u001b[39m (n\u001b[38;5;241m+\u001b[39mm)\u001b[38;5;241m/\u001b[39m\u001b[38;5;241m/\u001b[39m\u001b[38;5;241m2\u001b[39m\n\u001b[1;32m     63\u001b[0m \u001b[38;5;28;01mif\u001b[39;00m (m\u001b[38;5;241m-\u001b[39mn\u001b[38;5;241m>\u001b[39m\u001b[38;5;241m1\u001b[39m):\n\u001b[0;32m---> 64\u001b[0m     \u001b[38;5;28;43mself\u001b[39;49m\u001b[38;5;241;43m.\u001b[39;49m\u001b[43mmerge_insertion_sort\u001b[49m\u001b[43m(\u001b[49m\u001b[43mn\u001b[49m\u001b[43m,\u001b[49m\u001b[43m \u001b[49m\u001b[43mmid\u001b[49m\u001b[43m)\u001b[49m\n\u001b[1;32m     65\u001b[0m     \u001b[38;5;28mself\u001b[39m\u001b[38;5;241m.\u001b[39mmerge_insertion_sort(mid\u001b[38;5;241m+\u001b[39m\u001b[38;5;241m1\u001b[39m, m)\n\u001b[1;32m     67\u001b[0m \u001b[38;5;28mself\u001b[39m\u001b[38;5;241m.\u001b[39mmerge(n, m)\n",
      "Cell \u001b[0;32mIn[4], line 64\u001b[0m, in \u001b[0;36mModel.merge_insertion_sort\u001b[0;34m(self, n, m)\u001b[0m\n\u001b[1;32m     62\u001b[0m mid \u001b[38;5;241m=\u001b[39m (n\u001b[38;5;241m+\u001b[39mm)\u001b[38;5;241m/\u001b[39m\u001b[38;5;241m/\u001b[39m\u001b[38;5;241m2\u001b[39m\n\u001b[1;32m     63\u001b[0m \u001b[38;5;28;01mif\u001b[39;00m (m\u001b[38;5;241m-\u001b[39mn\u001b[38;5;241m>\u001b[39m\u001b[38;5;241m1\u001b[39m):\n\u001b[0;32m---> 64\u001b[0m     \u001b[38;5;28;43mself\u001b[39;49m\u001b[38;5;241;43m.\u001b[39;49m\u001b[43mmerge_insertion_sort\u001b[49m\u001b[43m(\u001b[49m\u001b[43mn\u001b[49m\u001b[43m,\u001b[49m\u001b[43m \u001b[49m\u001b[43mmid\u001b[49m\u001b[43m)\u001b[49m\n\u001b[1;32m     65\u001b[0m     \u001b[38;5;28mself\u001b[39m\u001b[38;5;241m.\u001b[39mmerge_insertion_sort(mid\u001b[38;5;241m+\u001b[39m\u001b[38;5;241m1\u001b[39m, m)\n\u001b[1;32m     67\u001b[0m \u001b[38;5;28mself\u001b[39m\u001b[38;5;241m.\u001b[39mmerge(n, m)\n",
      "Cell \u001b[0;32mIn[4], line 64\u001b[0m, in \u001b[0;36mModel.merge_insertion_sort\u001b[0;34m(self, n, m)\u001b[0m\n\u001b[1;32m     62\u001b[0m mid \u001b[38;5;241m=\u001b[39m (n\u001b[38;5;241m+\u001b[39mm)\u001b[38;5;241m/\u001b[39m\u001b[38;5;241m/\u001b[39m\u001b[38;5;241m2\u001b[39m\n\u001b[1;32m     63\u001b[0m \u001b[38;5;28;01mif\u001b[39;00m (m\u001b[38;5;241m-\u001b[39mn\u001b[38;5;241m>\u001b[39m\u001b[38;5;241m1\u001b[39m):\n\u001b[0;32m---> 64\u001b[0m     \u001b[38;5;28;43mself\u001b[39;49m\u001b[38;5;241;43m.\u001b[39;49m\u001b[43mmerge_insertion_sort\u001b[49m\u001b[43m(\u001b[49m\u001b[43mn\u001b[49m\u001b[43m,\u001b[49m\u001b[43m \u001b[49m\u001b[43mmid\u001b[49m\u001b[43m)\u001b[49m\n\u001b[1;32m     65\u001b[0m     \u001b[38;5;28mself\u001b[39m\u001b[38;5;241m.\u001b[39mmerge_insertion_sort(mid\u001b[38;5;241m+\u001b[39m\u001b[38;5;241m1\u001b[39m, m)\n\u001b[1;32m     67\u001b[0m \u001b[38;5;28mself\u001b[39m\u001b[38;5;241m.\u001b[39mmerge(n, m)\n",
      "Cell \u001b[0;32mIn[4], line 65\u001b[0m, in \u001b[0;36mModel.merge_insertion_sort\u001b[0;34m(self, n, m)\u001b[0m\n\u001b[1;32m     63\u001b[0m \u001b[38;5;28;01mif\u001b[39;00m (m\u001b[38;5;241m-\u001b[39mn\u001b[38;5;241m>\u001b[39m\u001b[38;5;241m1\u001b[39m):\n\u001b[1;32m     64\u001b[0m     \u001b[38;5;28mself\u001b[39m\u001b[38;5;241m.\u001b[39mmerge_insertion_sort(n, mid)\n\u001b[0;32m---> 65\u001b[0m     \u001b[38;5;28;43mself\u001b[39;49m\u001b[38;5;241;43m.\u001b[39;49m\u001b[43mmerge_insertion_sort\u001b[49m\u001b[43m(\u001b[49m\u001b[43mmid\u001b[49m\u001b[38;5;241;43m+\u001b[39;49m\u001b[38;5;241;43m1\u001b[39;49m\u001b[43m,\u001b[49m\u001b[43m \u001b[49m\u001b[43mm\u001b[49m\u001b[43m)\u001b[49m\n\u001b[1;32m     67\u001b[0m \u001b[38;5;28mself\u001b[39m\u001b[38;5;241m.\u001b[39mmerge(n, m)\n",
      "Cell \u001b[0;32mIn[4], line 67\u001b[0m, in \u001b[0;36mModel.merge_insertion_sort\u001b[0;34m(self, n, m)\u001b[0m\n\u001b[1;32m     64\u001b[0m     \u001b[38;5;28mself\u001b[39m\u001b[38;5;241m.\u001b[39mmerge_insertion_sort(n, mid)\n\u001b[1;32m     65\u001b[0m     \u001b[38;5;28mself\u001b[39m\u001b[38;5;241m.\u001b[39mmerge_insertion_sort(mid\u001b[38;5;241m+\u001b[39m\u001b[38;5;241m1\u001b[39m, m)\n\u001b[0;32m---> 67\u001b[0m \u001b[38;5;28;43mself\u001b[39;49m\u001b[38;5;241;43m.\u001b[39;49m\u001b[43mmerge\u001b[49m\u001b[43m(\u001b[49m\u001b[43mn\u001b[49m\u001b[43m,\u001b[49m\u001b[43m \u001b[49m\u001b[43mm\u001b[49m\u001b[43m)\u001b[49m\n",
      "Cell \u001b[0;32mIn[4], line 47\u001b[0m, in \u001b[0;36mModel.merge\u001b[0;34m(self, n, m)\u001b[0m\n\u001b[1;32m     45\u001b[0m mid \u001b[38;5;241m+\u001b[39m\u001b[38;5;241m=\u001b[39m \u001b[38;5;241m1\u001b[39m\n\u001b[1;32m     46\u001b[0m i \u001b[38;5;241m=\u001b[39m mid\n\u001b[0;32m---> 47\u001b[0m \u001b[38;5;28;01mwhile\u001b[39;00m i\u001b[38;5;241m>\u001b[39ma:\n\u001b[1;32m     48\u001b[0m     \u001b[38;5;28mself\u001b[39m\u001b[38;5;241m.\u001b[39marray[i] \u001b[38;5;241m=\u001b[39m \u001b[38;5;28mself\u001b[39m\u001b[38;5;241m.\u001b[39marray[i\u001b[38;5;241m-\u001b[39m\u001b[38;5;241m1\u001b[39m]\n\u001b[1;32m     49\u001b[0m     i \u001b[38;5;241m-\u001b[39m\u001b[38;5;241m=\u001b[39m \u001b[38;5;241m1\u001b[39m\n",
      "\u001b[0;31mKeyboardInterrupt\u001b[0m: "
     ]
    }
   ],
   "source": [
    "results = []\n",
    "\n",
    "for arr_len in ARR_LENS:\n",
    "    print(f\"Running for arrays of length {arr_len}\")\n",
    "    dataloader = DataLoader(arr_len=arr_len)\n",
    "    array = dataloader.generate_data()\n",
    "    \n",
    "    for S in S_VALUES:\n",
    "        \n",
    "        model = Model(array, S)\n",
    "        model.train()\n",
    "        \n",
    "        results.append({\n",
    "            \"Array Length\": arr_len,\n",
    "            \"Threshold\": S,\n",
    "            \"Execution Time\": model.execution_time,\n",
    "            \"Key Comparisons\": model.key_cmp\n",
    "        })\n",
    "\n",
    "df_results = pd.DataFrame(results)\n",
    "\n",
    "df_results.to_parquet(\"sorting_experiment_results.parquet\", index=False)"
   ]
  },
  {
   "cell_type": "code",
   "execution_count": null,
   "metadata": {},
   "outputs": [],
   "source": [
    "# PARALLEL\n",
    "\n",
    "# from multiprocessing import Pool, cpu_count\n",
    "# from tqdm import tqdm\n",
    "# import pandas as pd\n",
    "\n",
    "# def run_experiment(args):\n",
    "#     arr_len, S = args\n",
    "#     dataloader = DataLoader(arr_len=arr_len)\n",
    "#     array = dataloader.generate_data()\n",
    "\n",
    "#     model = Model(array, S)\n",
    "#     model.train()\n",
    "\n",
    "#     return {\n",
    "#         \"Array Length\": arr_len,\n",
    "#         \"Threshold\": S,\n",
    "#         \"Execution Time\": model.execution_time,\n",
    "#         \"Key Comparisons\": model.key_cmp\n",
    "#     }\n",
    "\n",
    "# experiments = [(arr_len, S) for arr_len in ARR_LENS for S in S_VALUES]\n",
    "\n",
    "# with Pool(cpu_count()) as pool:\n",
    "#     results = list(tqdm(pool.imap(run_experiment, experiments), total=len(experiments), desc=\"Processing Arrays\"))\n",
    "\n",
    "# df_results = pd.DataFrame(results)\n",
    "# df_results.to_parquet(\"results.parquet\", index=False)\n",
    "\n",
    "# print(\"Execution complete\")\n"
   ]
  }
 ],
 "metadata": {
  "kernelspec": {
   "display_name": "sc1015",
   "language": "python",
   "name": "python3"
  },
  "language_info": {
   "codemirror_mode": {
    "name": "ipython",
    "version": 3
   },
   "file_extension": ".py",
   "mimetype": "text/x-python",
   "name": "python",
   "nbconvert_exporter": "python",
   "pygments_lexer": "ipython3",
   "version": "3.10.13"
  }
 },
 "nbformat": 4,
 "nbformat_minor": 2
}
