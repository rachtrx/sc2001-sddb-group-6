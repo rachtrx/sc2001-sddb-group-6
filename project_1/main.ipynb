{
 "cells": [
  {
   "cell_type": "code",
   "execution_count": 1,
   "metadata": {},
   "outputs": [],
   "source": [
    "import numpy as np\n",
    "import pandas as pd\n",
    "import time\n",
    "from multiprocessing import Pool, cpu_count\n",
    "from tqdm import tqdm\n",
    "import logging"
   ]
  },
  {
   "cell_type": "code",
   "execution_count": 2,
   "metadata": {},
   "outputs": [],
   "source": [
    "logging.basicConfig(\n",
    "    filename=\"experiments.log\",\n",
    "    filemode=\"w\",\n",
    "    level=logging.INFO,\n",
    "    format=\"%(asctime)s - %(levelname)s - %(message)s\" \n",
    ")"
   ]
  },
  {
   "cell_type": "code",
   "execution_count": 3,
   "metadata": {},
   "outputs": [],
   "source": [
    "ARR_LENS = list(range(0, 10_000_001, 100_000))\n",
    "S_VALUES = list(range(10, 101, 10)) # 10 to 100"
   ]
  },
  {
   "cell_type": "code",
   "execution_count": 4,
   "metadata": {},
   "outputs": [],
   "source": [
    "class DataLoader:\n",
    "    def __init__(self, arr_len):\n",
    "        self.arr_len = arr_len\n",
    "        \n",
    "    def generate_data(self):\n",
    "        return np.random.randint(1, self.arr_len, self.arr_len)"
   ]
  },
  {
   "cell_type": "code",
   "execution_count": 5,
   "metadata": {},
   "outputs": [],
   "source": [
    "class Model:\n",
    "\n",
    "    def __init__(self, array, S):\n",
    "        self.S = S   \n",
    "        self.array = array\n",
    "\n",
    "    def train(self):\n",
    "        self.execution_time = None\n",
    "        self.key_cmp = 0\n",
    "        start_time = time.perf_counter()\n",
    "        self.merge_insertion_sort(0, len(self.array)-1)\n",
    "        end_time = time.perf_counter()\n",
    "        self.execution_time = end_time - start_time\n",
    "\n",
    "    def merge(self, n, m):\n",
    "        mid = (n + m) // 2\n",
    "        left = self.array[n:mid + 1]  # Left half\n",
    "        right = self.array[mid + 1:m + 1]  # Right half\n",
    "\n",
    "        i = j = 0\n",
    "\n",
    "        temp = []\n",
    "\n",
    "        while i < len(left) and j < len(right):\n",
    "            self.key_cmp += 1\n",
    "            if left[i] <= right[j]:  # Stable sort: left[i] goes first if equal\n",
    "                temp.append(left[i])\n",
    "                i += 1\n",
    "            else:\n",
    "                temp.append(right[j])\n",
    "                j += 1\n",
    "\n",
    "        # Add any remaining elements\n",
    "        while i < len(left):\n",
    "            temp.append(left[i])\n",
    "            i += 1\n",
    "\n",
    "        while j < len(right):\n",
    "            temp.append(right[j])\n",
    "            j += 1\n",
    "\n",
    "        self.array[n:m+1] = temp\n",
    "\n",
    "    def merge_insertion_sort(self, n, m):\n",
    "        \n",
    "        if (m-n <= 0):\n",
    "            return\n",
    "        \n",
    "        if m-n+1 <= self.S:\n",
    "            self.insertion_sort(n, m)\n",
    "            return\n",
    "        \n",
    "        mid = (n+m)//2\n",
    "        if (m-n>1):\n",
    "            self.merge_insertion_sort(n, mid)\n",
    "            self.merge_insertion_sort(mid+1, m)\n",
    "        \n",
    "        self.merge(n, m)\n",
    "\n",
    "    def merge_sort(self, n, m):\n",
    "        if (m-n <= 0):\n",
    "            return\n",
    "        \n",
    "        mid = (n+m)//2\n",
    "        if (m-n>1):\n",
    "            self.merge_sort(n, mid)\n",
    "            self.merge_sort(mid+1, m)\n",
    "        \n",
    "        self.merge(n, m)\n",
    "\n",
    "    def insertion_sort(self, n, m):\n",
    "        i = n+1\n",
    "        while i <= m:\n",
    "            j = i\n",
    "            while j > n:\n",
    "                self.key_cmp += 1\n",
    "                if self.array[j] < self.array[j-1]:\n",
    "                    tmp = self.array[j]\n",
    "                    self.array[j] = self.array[j-1]\n",
    "                    self.array[j-1] = tmp\n",
    "                    j -= 1\n",
    "                else:\n",
    "                    break\n",
    "            i+=1"
   ]
  },
  {
   "cell_type": "code",
   "execution_count": 6,
   "metadata": {},
   "outputs": [],
   "source": [
    "def run_experiment(args):\n",
    "    arr_len, S = args\n",
    "    dataloader = DataLoader(arr_len=arr_len)\n",
    "    array = dataloader.generate_data()\n",
    "\n",
    "    model = Model(array, S)\n",
    "\n",
    "    logging.info(f\"Starting sort for arr_len={arr_len} with S={S}\")\n",
    "    model.train()\n",
    "    logging.info(f\"Completed sort for arr_len={arr_len} with S={S}\")\n",
    "\n",
    "    return {\n",
    "        \"Array Length\": arr_len,\n",
    "        \"Threshold\": S,\n",
    "        \"Execution Time\": model.execution_time,\n",
    "        \"Key Comparisons\": model.key_cmp\n",
    "    }\n"
   ]
  },
  {
   "cell_type": "code",
   "execution_count": null,
   "metadata": {},
   "outputs": [
    {
     "name": "stderr",
     "output_type": "stream",
     "text": [
      "Processing Arrays: 100%|██████████| 1010/1010 [16:16<00:00,  1.03it/s]"
     ]
    }
   ],
   "source": [
    "experiments = [(arr_len, S) for arr_len in ARR_LENS for S in S_VALUES]\n",
    "\n",
    "with Pool(cpu_count()) as pool:\n",
    "    results = list(tqdm(pool.imap(run_experiment, experiments), total=len(experiments), desc=\"Processing Arrays\"))\n",
    "\n",
    "df_results = pd.DataFrame(results)\n",
    "df_results.to_parquet(\"results.parquet\", index=False)\n",
    "\n",
    "print(\"Execution complete\")"
   ]
  }
 ],
 "metadata": {
  "kernelspec": {
   "display_name": "hft",
   "language": "python",
   "name": "python3"
  },
  "language_info": {
   "codemirror_mode": {
    "name": "ipython",
    "version": 3
   },
   "file_extension": ".py",
   "mimetype": "text/x-python",
   "name": "python",
   "nbconvert_exporter": "python",
   "pygments_lexer": "ipython3",
   "version": "3.10.15"
  }
 },
 "nbformat": 4,
 "nbformat_minor": 2
}
