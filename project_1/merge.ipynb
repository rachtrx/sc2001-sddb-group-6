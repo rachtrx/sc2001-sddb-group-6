{
 "cells": [
  {
   "cell_type": "code",
   "execution_count": 1,
   "metadata": {},
   "outputs": [],
   "source": [
    "import pandas as pd\n",
    "from multiprocessing import Pool, cpu_count\n",
    "from tqdm import tqdm\n",
    "import logging\n",
    "\n",
    "import sys\n",
    "import os\n",
    "notebook_dir = os.getcwd()\n",
    "sys.path.append(notebook_dir)\n",
    "from model import Model\n",
    "from dataloader import DataLoader\n",
    "from constants import ARR_LENS, S_VALUES"
   ]
  },
  {
   "cell_type": "code",
   "execution_count": 2,
   "metadata": {},
   "outputs": [],
   "source": [
    "logging.basicConfig(\n",
    "    filename=\"merge.log\",\n",
    "    filemode=\"w\",\n",
    "    level=logging.INFO,\n",
    "    format=\"%(asctime)s - %(levelname)s - %(message)s\" \n",
    ")"
   ]
  },
  {
   "cell_type": "code",
   "execution_count": 3,
   "metadata": {},
   "outputs": [],
   "source": [
    "def run_experiment(args):\n",
    "    arr_len = args\n",
    "    dataloader = DataLoader(arr_len=arr_len)\n",
    "    array = dataloader.generate_data()\n",
    "\n",
    "    model = Model(array)\n",
    "\n",
    "    logging.info(f\"Starting sort for arr_len={arr_len} with S={S}\")\n",
    "    model.train()\n",
    "    logging.info(f\"Completed sort for arr_len={arr_len} with S={S}\")\n",
    "\n",
    "    return {\n",
    "        \"Array Length\": arr_len,\n",
    "        \"Execution Time\": model.execution_time,\n",
    "        \"Key Comparisons\": model.key_cmp\n",
    "    }"
   ]
  },
  {
   "cell_type": "code",
   "execution_count": 4,
   "metadata": {},
   "outputs": [
    {
     "name": "stdout",
     "output_type": "stream",
     "text": [
      "[ 5 26  8  1 16 20  6 27  9  3 12  4 11 23 22 18 29 17 19 21 25 24 15 13\n",
      " 28 14  2 10 30  7]\n",
      "[ 1  2  3  4  5  6  7  8  9 10 11 12 13 14 15 16 17 18 19 20 21 22 23 24\n",
      " 25 26 27 28 29 30]\n"
     ]
    }
   ],
   "source": [
    "# TEST\n",
    "arr_len = 30\n",
    "S=3\n",
    "\n",
    "dataloader = DataLoader(arr_len=arr_len)\n",
    "array = dataloader.generate_data()\n",
    "\n",
    "model = Model(array)\n",
    "\n",
    "print(model.array)\n",
    "model.train()\n",
    "print(model.array)"
   ]
  },
  {
   "cell_type": "code",
   "execution_count": 5,
   "metadata": {},
   "outputs": [
    {
     "name": "stderr",
     "output_type": "stream",
     "text": [
      "Processing Arrays: 100%|██████████| 100/100 [01:40<00:00,  1.00s/it]\n"
     ]
    },
    {
     "name": "stdout",
     "output_type": "stream",
     "text": [
      "Execution complete\n"
     ]
    }
   ],
   "source": [
    "with Pool(cpu_count()) as pool:\n",
    "    results = list(tqdm(pool.imap(run_experiment, ARR_LENS), total=len(ARR_LENS), desc=\"Processing Arrays\"))\n",
    "\n",
    "df_results = pd.DataFrame(results)\n",
    "df_results.to_parquet(\"merge.parquet\", index=False)\n",
    "\n",
    "print(\"Execution complete\")"
   ]
  }
 ],
 "metadata": {
  "kernelspec": {
   "display_name": "hft",
   "language": "python",
   "name": "python3"
  },
  "language_info": {
   "codemirror_mode": {
    "name": "ipython",
    "version": 3
   },
   "file_extension": ".py",
   "mimetype": "text/x-python",
   "name": "python",
   "nbconvert_exporter": "python",
   "pygments_lexer": "ipython3",
   "version": "3.10.15"
  }
 },
 "nbformat": 4,
 "nbformat_minor": 2
}
