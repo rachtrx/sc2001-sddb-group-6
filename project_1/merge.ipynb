{
 "cells": [
  {
   "cell_type": "code",
   "execution_count": 1,
   "metadata": {},
   "outputs": [],
   "source": [
    "import pandas as pd\n",
    "from multiprocessing import Pool, cpu_count\n",
    "from tqdm import tqdm\n",
    "import logging\n",
    "\n",
    "import sys\n",
    "import os\n",
    "notebook_dir = os.getcwd()\n",
    "sys.path.append(notebook_dir)\n",
    "from model import Model\n",
    "from dataloader import DataLoader\n",
    "from constants import ARR_LENS, S_VALUES"
   ]
  },
  {
   "cell_type": "code",
   "execution_count": 2,
   "metadata": {},
   "outputs": [],
   "source": [
    "logging.basicConfig(\n",
    "    filename=\"merge.log\",\n",
    "    filemode=\"w\",\n",
    "    level=logging.INFO,\n",
    "    format=\"%(asctime)s - %(levelname)s - %(message)s\" \n",
    ")"
   ]
  },
  {
   "cell_type": "code",
   "execution_count": 11,
   "metadata": {},
   "outputs": [],
   "source": [
    "def run_experiment(args):\n",
    "    arr_len, S = args\n",
    "    dataloader = DataLoader(arr_len=arr_len)\n",
    "    array = dataloader.generate_data()\n",
    "\n",
    "    logging.info(f\"Starting sort for arr_len={arr_len} with S={S}\")\n",
    "    model = Model(array, S)\n",
    "    logging.info(f\"Completed sort for arr_len={arr_len} with S={S}\")\n",
    "\n",
    "    model.train()\n",
    "\n",
    "    return {\n",
    "        \"Array Length\": arr_len,\n",
    "        \"Execution Time\": model.execution_time,\n",
    "        \"Key Comparisons\": model.key_cmp\n",
    "    }"
   ]
  },
  {
   "cell_type": "code",
   "execution_count": 12,
   "metadata": {},
   "outputs": [
    {
     "name": "stdout",
     "output_type": "stream",
     "text": [
      "[20 30  3 18 23  5  8 28 21 25 29 22  4 26 19 13  6  2 15  9 27 10 11 14\n",
      " 16  1 17 24 12  7]\n",
      "[ 1  2  3  4  5  6  7  8  9 10 11 12 13 14 15 16 17 18 19 20 21 22 23 24\n",
      " 25 26 27 28 29 30]\n"
     ]
    }
   ],
   "source": [
    "# TEST\n",
    "arr_len = 30\n",
    "S=3\n",
    "\n",
    "dataloader = DataLoader(arr_len=arr_len)\n",
    "array = dataloader.generate_data()\n",
    "\n",
    "model = Model(array, S)\n",
    "\n",
    "print(model.array)\n",
    "model.train()\n",
    "print(model.array)"
   ]
  },
  {
   "cell_type": "code",
   "execution_count": null,
   "metadata": {},
   "outputs": [
    {
     "name": "stderr",
     "output_type": "stream",
     "text": [
      "Processing Arrays:   0%|          | 0/2 [00:00<?, ?it/s]"
     ]
    }
   ],
   "source": [
    "experiments = [(10_000_000, 7), (10_000_000, 1)]\n",
    "\n",
    "with Pool(cpu_count()) as pool:\n",
    "    results = list(tqdm(pool.imap(run_experiment, experiments), total=len(experiments), desc=\"Processing Arrays\"))\n",
    "\n",
    "df_results = pd.DataFrame(results)\n",
    "df_results.to_parquet(\"merge.parquet\", index=False)\n",
    "\n",
    "print(\"Execution complete\")"
   ]
  }
 ],
 "metadata": {
  "kernelspec": {
   "display_name": "sc1015",
   "language": "python",
   "name": "python3"
  },
  "language_info": {
   "codemirror_mode": {
    "name": "ipython",
    "version": 3
   },
   "file_extension": ".py",
   "mimetype": "text/x-python",
   "name": "python",
   "nbconvert_exporter": "python",
   "pygments_lexer": "ipython3",
   "version": "3.10.13"
  }
 },
 "nbformat": 4,
 "nbformat_minor": 2
}
