{
 "cells": [
  {
   "cell_type": "code",
   "execution_count": 1,
   "metadata": {},
   "outputs": [],
   "source": [
    "import time\n",
    "\n",
    "# Helper function to track time taken for recursive vs DP\n",
    "def calc_execution_time(func):\n",
    "    def wrapper(*args, **kwargs):\n",
    "        start_time = time.time()\n",
    "        result = func(*args, **kwargs)\n",
    "        end_time = time.time()\n",
    "        print(f\"Execution time: {end_time - start_time:.6f} seconds\")\n",
    "        return result\n",
    "    return wrapper"
   ]
  },
  {
   "cell_type": "code",
   "execution_count": 2,
   "metadata": {},
   "outputs": [],
   "source": [
    "def _unbounded_knapsack_recursive(weights, profits, capacity):\n",
    "    # Base case: no capacity left\n",
    "    if capacity == 0:\n",
    "        return 0, []\n",
    "    \n",
    "    best_profit = 0\n",
    "    best_items = []\n",
    "    \n",
    "    # Try each item and see if adding it improves the profit\n",
    "    for i in range(len(weights)):\n",
    "        if weights[i] <= capacity:\n",
    "            # Recursively compute the profit for the remaining capacity after taking item i\n",
    "            profit, items = _unbounded_knapsack_recursive(weights, profits, capacity - weights[i])\n",
    "            profit += profits[i]\n",
    "            # Update best profit and corresponding items if this option is better\n",
    "            if profit > best_profit:\n",
    "                best_profit = profit\n",
    "                best_items = [i] + items\n",
    "\n",
    "    return best_profit, best_items"
   ]
  },
  {
   "cell_type": "code",
   "execution_count": 3,
   "metadata": {},
   "outputs": [],
   "source": [
    "@calc_execution_time\n",
    "def unbounded_knapsack_recursive(*args, **kwargs):\n",
    "    return _unbounded_knapsack_recursive(*args, **kwargs)"
   ]
  },
  {
   "cell_type": "markdown",
   "metadata": {},
   "source": [
    "When each item can only be used once, we typically use a 2D DP table to keep track of which items have been considered. The extra dimension helps ensure that an item is only taken once.\n",
    "\n",
    "Since we can use the same item multiple times, a 1D DP array works well since the state depends only on remaining capacity, and our problem is hance:\n",
    "\n",
    "$$\n",
    "dp[c] = \\max_{\\substack{i: w[i] \\le c}} \\{dp[c-w[i]] + p[i]\\}\n",
    "$$"
   ]
  },
  {
   "cell_type": "code",
   "execution_count": 4,
   "metadata": {},
   "outputs": [],
   "source": [
    "@calc_execution_time\n",
    "def unbounded_knapsack(weights, profits, capacity):\n",
    "    # dp[c] will hold the maximum profit for capacity c\n",
    "    dp = [0] * (capacity + 1)\n",
    "    \n",
    "    # track the last item used for each capacity to reconstruct the solution. \n",
    "    last_item = [-1] * (capacity + 1)\n",
    "    \n",
    "    for c in range(1, capacity + 1):\n",
    "        for i in range(len(weights)):\n",
    "            if weights[i] <= c:\n",
    "                # If using this item yields a better profit, update dp[c]\n",
    "                if dp[c - weights[i]] + profits[i] > dp[c]:\n",
    "                    dp[c] = dp[c - weights[i]] + profits[i]\n",
    "                    last_item[c] = i\n",
    "    \n",
    "    # dp[capacity] now contains the maximum profit\n",
    "    # To reconstruct the list of items used:\n",
    "    c = capacity\n",
    "    chosen_items = []\n",
    "    while c > 0 and last_item[c] != -1:\n",
    "        item = last_item[c]\n",
    "        chosen_items.append(item)\n",
    "        c -= weights[item]\n",
    "    \n",
    "    return dp[capacity], chosen_items"
   ]
  },
  {
   "cell_type": "code",
   "execution_count": 5,
   "metadata": {},
   "outputs": [],
   "source": [
    "w = [4, 6, 8]\n",
    "p = [7, 6, 9]"
   ]
  },
  {
   "cell_type": "code",
   "execution_count": 6,
   "metadata": {},
   "outputs": [
    {
     "name": "stdout",
     "output_type": "stream",
     "text": [
      "Execution time: 0.000014 seconds\n",
      "Maximum Profit: 21\n",
      "Items Chosen (indices): [0, 0, 0]\n"
     ]
    }
   ],
   "source": [
    "max_profit, chosen = unbounded_knapsack_recursive(w, p, 14)\n",
    "print(\"Maximum Profit:\", max_profit)\n",
    "print(\"Items Chosen (indices):\", chosen)"
   ]
  },
  {
   "cell_type": "code",
   "execution_count": 7,
   "metadata": {},
   "outputs": [
    {
     "name": "stdout",
     "output_type": "stream",
     "text": [
      "Execution time: 0.000013 seconds\n",
      "Maximum Profit: 21\n",
      "Items Chosen (indices): [0, 0, 0]\n"
     ]
    }
   ],
   "source": [
    "max_profit, chosen = unbounded_knapsack(w, p, 14)\n",
    "print(\"Maximum Profit:\", max_profit)\n",
    "print(\"Items Chosen (indices):\", chosen)"
   ]
  },
  {
   "cell_type": "code",
   "execution_count": 8,
   "metadata": {},
   "outputs": [],
   "source": [
    "w = [5, 6, 8]\n",
    "p = [7, 6, 9]"
   ]
  },
  {
   "cell_type": "code",
   "execution_count": 9,
   "metadata": {},
   "outputs": [
    {
     "name": "stdout",
     "output_type": "stream",
     "text": [
      "Execution time: 0.000010 seconds\n",
      "Maximum Profit: 16\n",
      "Items Chosen (indices): [0, 2]\n"
     ]
    }
   ],
   "source": [
    "max_profit, chosen = unbounded_knapsack_recursive(w, p, 14)\n",
    "print(\"Maximum Profit:\", max_profit)\n",
    "print(\"Items Chosen (indices):\", chosen)"
   ]
  },
  {
   "cell_type": "code",
   "execution_count": 10,
   "metadata": {},
   "outputs": [
    {
     "name": "stdout",
     "output_type": "stream",
     "text": [
      "Execution time: 0.000031 seconds\n",
      "Maximum Profit: 16\n",
      "Items Chosen (indices): [0, 2]\n"
     ]
    }
   ],
   "source": [
    "max_profit, chosen = unbounded_knapsack(w, p, 14)\n",
    "print(\"Maximum Profit:\", max_profit)\n",
    "print(\"Items Chosen (indices):\", chosen)"
   ]
  },
  {
   "cell_type": "markdown",
   "metadata": {},
   "source": [
    "### Testing with random weights"
   ]
  },
  {
   "cell_type": "code",
   "execution_count": null,
   "metadata": {},
   "outputs": [
    {
     "name": "stdout",
     "output_type": "stream",
     "text": [
      "weights = [4, 5, 6, 9, 11, 14, 15, 16, 17, 19]\n",
      "profits = [2, 3, 5, 6, 8, 9, 10, 13, 16, 17]\n"
     ]
    }
   ],
   "source": [
    "import random\n",
    "\n",
    "n = 10\n",
    "weights = sorted(random.sample(range(2, 20), n))\n",
    "profits = sorted(random.sample(range(2, 20), n))\n",
    "\n",
    "print(\"weights =\", weights)\n",
    "print(\"profits =\", profits)"
   ]
  },
  {
   "cell_type": "code",
   "execution_count": 12,
   "metadata": {},
   "outputs": [
    {
     "name": "stdout",
     "output_type": "stream",
     "text": [
      "Execution time: 0.276128 seconds\n",
      "Maximum Profit: 45\n",
      "Items Chosen (indices): [7, 8, 8]\n"
     ]
    }
   ],
   "source": [
    "max_profit, chosen = unbounded_knapsack_recursive(weights, profits, 50)\n",
    "print(\"Maximum Profit:\", max_profit)\n",
    "print(\"Items Chosen (indices):\", chosen)"
   ]
  },
  {
   "cell_type": "code",
   "execution_count": 13,
   "metadata": {},
   "outputs": [
    {
     "name": "stdout",
     "output_type": "stream",
     "text": [
      "Execution time: 0.000062 seconds\n",
      "Maximum Profit: 45\n",
      "Items Chosen (indices): [7, 8, 8]\n"
     ]
    }
   ],
   "source": [
    "max_profit, chosen = unbounded_knapsack(weights, profits, 50)\n",
    "print(\"Maximum Profit:\", max_profit)\n",
    "print(\"Items Chosen (indices):\", chosen)"
   ]
  },
  {
   "cell_type": "code",
   "execution_count": null,
   "metadata": {},
   "outputs": [],
   "source": []
  }
 ],
 "metadata": {
  "kernelspec": {
   "display_name": "sc1015",
   "language": "python",
   "name": "python3"
  },
  "language_info": {
   "codemirror_mode": {
    "name": "ipython",
    "version": 3
   },
   "file_extension": ".py",
   "mimetype": "text/x-python",
   "name": "python",
   "nbconvert_exporter": "python",
   "pygments_lexer": "ipython3",
   "version": "3.10.13"
  }
 },
 "nbformat": 4,
 "nbformat_minor": 2
}
